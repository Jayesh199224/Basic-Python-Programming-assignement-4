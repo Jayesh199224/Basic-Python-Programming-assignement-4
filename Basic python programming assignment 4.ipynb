{
 "cells": [
  {
   "cell_type": "code",
   "execution_count": 4,
   "metadata": {},
   "outputs": [
    {
     "name": "stdout",
     "output_type": "stream",
     "text": [
      "Enter the number  :  5\n",
      "the factorial for  5 is  120\n"
     ]
    }
   ],
   "source": [
    "#1.\tWrite a Python Program to Find the Factorial of a Number?\n",
    "num =  int(input(\"Enter the number  :  \"))\n",
    "\n",
    "factor = 1\n",
    "\n",
    "if num < 0 :\n",
    "    print(\"factorial does not exist fo negative numberS\")\n",
    "elif num == 0 :\n",
    "    print(\"factorial of 0 is 1\")\n",
    "else :\n",
    "    for i in range (1, num+1):\n",
    "        factor*=i\n",
    "    print(\"the factorial for \",num ,\"is \",factor)\n"
   ]
  },
  {
   "cell_type": "code",
   "execution_count": 10,
   "metadata": {},
   "outputs": [
    {
     "name": "stdout",
     "output_type": "stream",
     "text": [
      "Table for : 3\n",
      "3 x 1 = 3\n",
      "3 x 2 = 6\n",
      "3 x 3 = 9\n",
      "3 x 4 = 12\n",
      "3 x 5 = 15\n",
      "3 x 6 = 18\n",
      "3 x 7 = 21\n",
      "3 x 8 = 24\n",
      "3 x 9 = 27\n",
      "3 x 10 = 30\n"
     ]
    }
   ],
   "source": [
    "#2.\tWrite a Python Program to Display the multiplication Table?\n",
    "num = int(input(\"Table for : \"))\n",
    "for i in range(1,11):\n",
    "    print(num,\"x\",i,\"=\",num*i)\n",
    "\n"
   ]
  },
  {
   "cell_type": "code",
   "execution_count": 1,
   "metadata": {},
   "outputs": [],
   "source": [
    "#3.\tWrite a Python Program to Print the Fibonacci sequence?\n",
    "def fib(n) :\n",
    "    a = 0\n",
    "    b = 1\n",
    "    output = []\n",
    "    for i in range(n):\n",
    "        output.append(a)\n",
    "        a , b = b, a+b\n",
    "    return output"
   ]
  },
  {
   "cell_type": "code",
   "execution_count": 3,
   "metadata": {},
   "outputs": [
    {
     "data": {
      "text/plain": [
       "[0, 1, 1, 2, 3, 5, 8, 13, 21, 34]"
      ]
     },
     "execution_count": 3,
     "metadata": {},
     "output_type": "execute_result"
    }
   ],
   "source": [
    "fib(10)"
   ]
  },
  {
   "cell_type": "code",
   "execution_count": 5,
   "metadata": {},
   "outputs": [
    {
     "name": "stdout",
     "output_type": "stream",
     "text": [
      "Enter the number : 7\n",
      "7  is not a armstrong number\n"
     ]
    }
   ],
   "source": [
    "#4.\tWrite a Python Program to Check Armstrong Number?\n",
    "num = int(input(\"Enter the number : \"))\n",
    "sum = 0\n",
    "temp = num\n",
    "\n",
    "while temp > 0 :\n",
    "    a = temp % 10\n",
    "    sum += a**3\n",
    "    temp//=10\n",
    "if num == sum :\n",
    "    print(num, \" is a armstrong number.\")\n",
    "else :\n",
    "    print (num, \" is not a armstrong number\")\n",
    "\n"
   ]
  },
  {
   "cell_type": "code",
   "execution_count": 4,
   "metadata": {},
   "outputs": [
    {
     "name": "stdout",
     "output_type": "stream",
     "text": [
      "enter starting number100\n",
      "enter ending number200\n",
      "125\n",
      "153\n"
     ]
    }
   ],
   "source": [
    "#5.\tWrite a Python Program to Find Armstrong Number in an Interval?\n",
    "l = int (input(\"enter starting number\"))\n",
    "e = int (input(\"enter ending number\"))\n",
    "for i in range(l,e+1):\n",
    "    sum = 0\n",
    "    t = i\n",
    "    while t > 0 :\n",
    "        d = t%10\n",
    "        sum += d**3\n",
    "        t //=10\n",
    "        if i == sum :\n",
    "            print(i)\n",
    "        \n",
    "    "
   ]
  },
  {
   "cell_type": "code",
   "execution_count": 1,
   "metadata": {},
   "outputs": [
    {
     "name": "stdout",
     "output_type": "stream",
     "text": [
      "Enter the number of your choice - 50\n",
      "The sum is  1275\n"
     ]
    }
   ],
   "source": [
    "#6.\tWrite a Python Program to Find the Sum of Natural Numbers?\n",
    "num =  int(input(\"Enter the number of your choice - \"))\n",
    "\n",
    "if num < 0 :\n",
    "    print(\"Enter a positive number\")\n",
    "    \n",
    "else :\n",
    "    s = 0\n",
    "    \n",
    "    while num > 0 :\n",
    "        s = s + num\n",
    "        num  = num - 1\n",
    "    print(\"The sum is \", s)\n"
   ]
  },
  {
   "cell_type": "code",
   "execution_count": null,
   "metadata": {},
   "outputs": [],
   "source": []
  }
 ],
 "metadata": {
  "kernelspec": {
   "display_name": "Python 3",
   "language": "python",
   "name": "python3"
  },
  "language_info": {
   "codemirror_mode": {
    "name": "ipython",
    "version": 3
   },
   "file_extension": ".py",
   "mimetype": "text/x-python",
   "name": "python",
   "nbconvert_exporter": "python",
   "pygments_lexer": "ipython3",
   "version": "3.8.5"
  }
 },
 "nbformat": 4,
 "nbformat_minor": 4
}
